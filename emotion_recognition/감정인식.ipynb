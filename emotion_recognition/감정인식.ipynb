{
 "cells": [
  {
   "cell_type": "code",
   "execution_count": null,
   "id": "5aae7a56",
   "metadata": {
    "collapsed": true
   },
   "outputs": [],
   "source": [
    "# base model RoBERT : bidirectional - attension이 양방향"
   ]
  },
  {
   "cell_type": "markdown",
   "id": "06b02ae1",
   "metadata": {},
   "source": [
    "# dataset load"
   ]
  },
  {
   "cell_type": "code",
   "execution_count": null,
   "id": "b5fc5824",
   "metadata": {},
   "outputs": [
    {
     "name": "stderr",
     "output_type": "stream",
     "text": [
      "fatal: destination path 'MELD' already exists and is not an empty directory.\n"
     ]
    },
    {
     "name": "stdout",
     "output_type": "stream",
     "text": [
      " D ����̺��� ����: �� ����\n",
      " ���� �Ϸ� ��ȣ: 24A6-FBE8\n",
      "\n",
      " d:\\ideaproject\\nlp ���͸�\n",
      "\n",
      "2022-10-24  ���� 06:35    <DIR>          .\n",
      "2022-10-24  ���� 05:48    <DIR>          ..\n",
      "2022-10-24  ���� 05:48    <DIR>          .ipynb_checkpoints\n",
      "2022-10-24  ���� 05:48    <DIR>          MELD\n",
      "2022-10-24  ���� 05:51             6,969 �����ν�.ipynb\n",
      "2022-10-24  ���� 05:51             6,969 �����ν�_TEST.ipynb\n",
      "               2�� ����              13,938 ����Ʈ\n",
      "               4�� ���͸�  499,971,231,744 ����Ʈ ����\n"
     ]
    }
   ],
   "source": [
    "! git clone https://github.com/declare-lab/MELD/\n",
    "! DIR"
   ]
  },
  {
   "cell_type": "code",
   "execution_count": null,
   "id": "a12a2be4",
   "metadata": {},
   "outputs": [
    {
     "name": "stdout",
     "output_type": "stream",
     "text": [
      "['./MELD/data/MELD\\\\dev_sent_emo.csv', './MELD/data/MELD\\\\test_sent_emo.csv', './MELD/data/MELD\\\\train_sent_emo.csv']\n"
     ]
    }
   ],
   "source": [
    "import glob\n",
    "data_path = \"./MELD/data/MELD/*.csv\"\n",
    "data_path_list = glob.glob(data_path)\n",
    "print(data_path_list)"
   ]
  },
  {
   "cell_type": "code",
   "execution_count": 4,
   "id": "7cacc92a",
   "metadata": {},
   "outputs": [],
   "source": [
    "#!head -5 './MELD/data/MELD\\\\dev_sent_emo.csv'"
   ]
  },
  {
   "cell_type": "code",
   "execution_count": 5,
   "id": "d8c91c7c",
   "metadata": {},
   "outputs": [
    {
     "name": "stdout",
     "output_type": "stream",
     "text": [
      "['Sr No.', 'Utterance', 'Speaker', 'Emotion', 'Sentiment', 'Dialogue_ID', 'Utterance_ID', 'Season', 'Episode', 'StartTime', 'EndTime']\n"
     ]
    }
   ],
   "source": [
    "import csv\n",
    "for data_path in data_path_list:\n",
    "    f = open(data_path, 'r',encoding='utf-8')\n",
    "    rdr = csv.reader(f)\n",
    "    \n",
    "    for line in rdr:\n",
    "        print(line)\n",
    "        break\n",
    "    \n",
    "    f.close()\n",
    "    break"
   ]
  },
  {
   "cell_type": "markdown",
   "id": "713bfe82",
   "metadata": {},
   "source": [
    "# data loader"
   ]
  },
  {
   "cell_type": "code",
   "execution_count": null,
   "id": "d0630eaf",
   "metadata": {},
   "outputs": [],
   "source": [
    "\"\"\" 토크나이저 확인하기 \"\"\"\n",
    "# https://github.com/thunlp/PLMpapers\n",
    "from transformers import RobertaTokenizer\n",
    "tokenizer = RobertaTokenizer.from_pretrained('roberta-large')"
   ]
  },
  {
   "cell_type": "code",
   "execution_count": 6,
   "id": "564c4878",
   "metadata": {},
   "outputs": [
    {
     "ename": "SyntaxError",
     "evalue": "invalid syntax (971386676.py, line 18)",
     "output_type": "error",
     "traceback": [
      "\u001b[1;36m  File \u001b[1;32m\"C:\\Users\\answl\\AppData\\Local\\Temp\\ipykernel_10524\\971386676.py\"\u001b[1;36m, line \u001b[1;32m18\u001b[0m\n\u001b[1;33m    f = open(data_path, 'r', , encoding='utf-8')\u001b[0m\n\u001b[1;37m                             ^\u001b[0m\n\u001b[1;31mSyntaxError\u001b[0m\u001b[1;31m:\u001b[0m invalid syntax\n"
     ]
    }
   ],
   "source": [
    "\"\"\" 배치 입력 토큰들 처리 \"\"\"\n",
    "from torch.utils.data import Dataset\n",
    "from transformers import RobertaTokenizer\n",
    "import csv\n",
    "from torch.utils.data import Dataset\n",
    "import torch\n",
    "\n",
    "def split(session):\n",
    "    final_data = []\n",
    "    split_session = []\n",
    "    for line in session:\n",
    "        split_session.append(line)\n",
    "        final_data.append(split_session[:])    \n",
    "    return final_data\n",
    "\n",
    "class data_loader(Dataset):\n",
    "    def __init__(self, data_path):\n",
    "        f = open(data_path, 'r', encoding='utf-8')\n",
    "        rdr = csv.reader(f)\n",
    "        \n",
    "        \n",
    "        emoSet = set()\n",
    "        self.tokenizer = RobertaTokenizer.from_pretrained('roberta-base')\n",
    "\n",
    "        '''Dialogue_ID당 데이터 묶기'''\n",
    "        self.session_dataset = []\n",
    "        session = []\n",
    "        speaker_set = []\n",
    "\n",
    "        \n",
    "        pre_sess = 'start'\n",
    "        for i, line in enumerate(rdr):\n",
    "            if i == 0:\n",
    "                \"\"\" 저장할 데이터들 index 확인 \"\"\"\n",
    "                header  = line\n",
    "                utt_idx = header.index('Utterance')\n",
    "                speaker_idx = header.index('Speaker')\n",
    "                emo_idx = header.index('Emotion')\n",
    "                sess_idx = header.index('Dialogue_ID')\n",
    "            else:\n",
    "                utt = line[utt_idx]\n",
    "                speaker = line[speaker_idx]\n",
    "                ''' Dialogue_ID 당 speaker 특정할 수 있도록 index 삽입'''\n",
    "                if speaker in speaker_set:\n",
    "                    uniq_speaker = speaker_set.index(speaker)\n",
    "                else:\n",
    "                    speaker_set.append(speaker)\n",
    "                    uniq_speaker = speaker_set.index(speaker)\n",
    "                emotion = line[emo_idx]\n",
    "                sess = line[sess_idx]\n",
    "\n",
    "                if pre_sess == 'start' or sess == pre_sess:\n",
    "                    session.append([uniq_speaker, utt, emotion])\n",
    "                else:\n",
    "                    \n",
    "                    self.session_dataset += split(session)\n",
    "                    session = [[uniq_speaker, utt, emotion]]\n",
    "                    speaker_set = []\n",
    "                    emoSet.add(emotion)\n",
    "                pre_sess = sess   \n",
    "        \"\"\" 마지막 세션 저장 \"\"\"\n",
    "        self.session_dataset += split(session)\n",
    "            \n",
    "        # self.emoList = sorted(emoSet) # 항상 같은 레이블 순서를 유지하기 위해\n",
    "        self.emoList = ['anger', 'disgust', 'fear', 'joy', 'neutral', 'sadness', 'surprise']\n",
    "        f.close()\n",
    "        \n",
    "    def __len__(self): \n",
    "        return len(self.session_dataset)\n",
    "    \n",
    "    def __getitem__(self, idx):\n",
    "        return self.session_dataset[idx]\n",
    "    \n",
    "    def padding(self, batch_input_token):\n",
    "        \n",
    "        \"\"\" 토큰 길이 넘으면 잘라내기 \"\"\"\n",
    "        batch_token_ids, batch_attention_masks = batch_input_token['input_ids'], batch_input_token['attention_mask']\n",
    "        trunc_batch_token_ids, trunc_batch_attention_masks = [], []\n",
    "        for batch_token_id, batch_attention_mask in zip(batch_token_ids, batch_attention_masks):\n",
    "            if len(batch_token_id) > self.tokenizer.model_max_length:\n",
    "                trunc_batch_token_id = [batch_token_id[0]] + batch_token_id[1:][-self.tokenizer.model_max_length+1:]\n",
    "                ''' 마지막 발화를 기준으로 뒤에서 부터 자르기 '''\n",
    "                trunc_batch_attention_mask = [batch_attention_mask[0]] + batch_attention_mask[1:][-self.tokenizer.model_max_length+1:]\n",
    "                trunc_batch_token_ids.append(trunc_batch_token_id)\n",
    "                trunc_batch_attention_masks.append(trunc_batch_attention_mask)\n",
    "            else:\n",
    "                trunc_batch_token_ids.append(batch_token_id)\n",
    "                trunc_batch_attention_masks.append(batch_attention_mask)\n",
    "        \n",
    "        \"\"\" padding token으로 패딩하기 \"\"\"\n",
    "        max_length = max([len(x) for x in trunc_batch_token_ids])\n",
    "        padding_tokens, padding_attention_masks = [], []\n",
    "        for batch_token_id, batch_attention_mask in zip(trunc_batch_token_ids, trunc_batch_attention_masks):\n",
    "            padding_tokens.append(batch_token_id + [self.tokenizer.pad_token_id for _ in range(max_length-len(batch_token_id))])\n",
    "            padding_attention_masks.append(batch_attention_mask + [0 for _ in range(max_length-len(batch_token_id))])\n",
    "        return torch.tensor(padding_tokens), torch.tensor(padding_attention_masks)\n",
    "    \n",
    "    def collate_fn(self, sessions): # 배치를 위한 구성\n",
    "        '''\n",
    "            input:\n",
    "                data: [(session1), (session2), ... ]\n",
    "            return:\n",
    "                batch_input_tokens_pad: (B, L) padded\n",
    "                batch_labels: (B)\n",
    "        '''\n",
    "        ## [발화1, 발화2, ..., 발화8]\n",
    "        # 발화1~발화7 컨텍스트로 사용한다면 입력이 길어진다.\n",
    "        # 발화1 같은 경우는 발화8에 덜중요할거에요.\n",
    "        # 적절하게 컨텍스트 길이를 조절해도된다.\n",
    "        # 3개로 정한다면, [발화5,발화6,발화7,발화8]\n",
    "        \n",
    "        batch_input, batch_labels = [], []\n",
    "        batch_PM_input = []\n",
    "        for session in sessions:\n",
    "            input_str = self.tokenizer.cls_token\n",
    "            \n",
    "            \"\"\" For PM \"\"\"\n",
    "            current_speaker, current_utt, current_emotion = session[-1]\n",
    "            PM_input = []\n",
    "            for i, line in enumerate(session):\n",
    "                speaker, utt, emotion = line\n",
    "                input_str += \" \" + utt + self.tokenizer.sep_token\n",
    "                if i < len(session)-1 and current_speaker == speaker:\n",
    "                    PM_input.append(self.tokenizer.encode(utt, add_special_tokens=True, return_tensors='pt'))\n",
    "                    # [cls_token, tokens, sep_token]\n",
    "                    \n",
    "            \"\"\" For CoM \"\"\"\n",
    "            batch_input.append(input_str)\n",
    "            batch_labels.append(self.emoList.index(emotion))\n",
    "            batch_PM_input.append(PM_input)\n",
    "        batch_input_token = self.tokenizer(batch_input, add_special_tokens=False)\n",
    "        batch_padding_token, batch_padding_attention_mask = self.padding(batch_input_token)\n",
    "        \n",
    "        return batch_padding_token, batch_padding_attention_mask, batch_PM_input, torch.tensor(batch_labels)"
   ]
  },
  {
   "cell_type": "code",
   "execution_count": null,
   "id": "42579e15",
   "metadata": {},
   "outputs": [],
   "source": []
  },
  {
   "cell_type": "code",
   "execution_count": 9,
   "id": "dfcf52fe",
   "metadata": {},
   "outputs": [
    {
     "name": "stdout",
     "output_type": "stream",
     "text": [
      "<s> </s> <pad>\n",
      "0 2 1\n"
     ]
    }
   ],
   "source": [
    "print(tokenizer.cls_token, tokenizer.sep_token, tokenizer.pad_token)\n",
    "print(tokenizer.cls_token_id, tokenizer.sep_token_id, tokenizer.pad_token_id)"
   ]
  },
  {
   "cell_type": "code",
   "execution_count": 10,
   "id": "48003fd2",
   "metadata": {},
   "outputs": [
    {
     "data": {
      "text/plain": [
       "512"
      ]
     },
     "execution_count": 10,
     "metadata": {},
     "output_type": "execute_result"
    }
   ],
   "source": [
    "# dir(tokenizer)\n",
    "tokenizer.model_max_length"
   ]
  },
  {
   "cell_type": "markdown",
   "id": "32907474",
   "metadata": {},
   "source": [
    "### tokenizer exam"
   ]
  },
  {
   "cell_type": "code",
   "execution_count": 11,
   "id": "0f491ab7",
   "metadata": {},
   "outputs": [
    {
     "name": "stdout",
     "output_type": "stream",
     "text": [
      "{'input_ids': [0, 42891, 4, 42, 16, 1769, 28135, 2], 'attention_mask': [1, 1, 1, 1, 1, 1, 1, 1]}\n",
      "[0, 42891, 4, 42, 16, 1769, 28135, 2]\n",
      "{'input_ids': [[0, 42891, 4, 42, 16, 1769, 28135, 2], [0, 12196, 32, 47, 608, 116, 2]], 'attention_mask': [[1, 1, 1, 1, 1, 1, 1, 1], [1, 1, 1, 1, 1, 1, 1]]}\n",
      "{'input_ids': [[42891, 4, 42, 16, 1769, 28135], [12196, 32, 47, 608, 116]], 'attention_mask': [[1, 1, 1, 1, 1, 1], [1, 1, 1, 1, 1]]}\n"
     ]
    }
   ],
   "source": [
    "\"\"\" 토크나이저 작동 \"\"\"\n",
    "res = tokenizer('hello. this is fastcampus')\n",
    "print(res)\n",
    "res = tokenizer.encode('hello. this is fastcampus')\n",
    "print(res)\n",
    "res = tokenizer(['hello. this is fastcampus', \"what are you doing?\"])\n",
    "print(res)\n",
    "res = tokenizer(['hello. this is fastcampus', \"what are you doing?\"], add_special_tokens=False)\n",
    "print(res)"
   ]
  },
  {
   "cell_type": "code",
   "execution_count": null,
   "id": "32fc609e",
   "metadata": {},
   "outputs": [],
   "source": []
  },
  {
   "cell_type": "code",
   "execution_count": null,
   "id": "256930e1",
   "metadata": {},
   "outputs": [],
   "source": []
  },
  {
   "cell_type": "code",
   "execution_count": null,
   "id": "3cedb051",
   "metadata": {},
   "outputs": [],
   "source": []
  },
  {
   "cell_type": "code",
   "execution_count": null,
   "id": "335ad7c9",
   "metadata": {},
   "outputs": [],
   "source": []
  },
  {
   "cell_type": "code",
   "execution_count": null,
   "id": "07d156e1",
   "metadata": {},
   "outputs": [],
   "source": []
  },
  {
   "cell_type": "code",
   "execution_count": null,
   "id": "bd9cb0db",
   "metadata": {},
   "outputs": [],
   "source": []
  }
 ],
 "metadata": {
  "kernelspec": {
   "display_name": "'nlp'",
   "language": "python",
   "name": "nlp"
  },
  "language_info": {
   "codemirror_mode": {
    "name": "ipython",
    "version": 3
   },
   "file_extension": ".py",
   "mimetype": "text/x-python",
   "name": "python",
   "nbconvert_exporter": "python",
   "pygments_lexer": "ipython3",
   "version": "3.9.13"
  }
 },
 "nbformat": 4,
 "nbformat_minor": 5
}
